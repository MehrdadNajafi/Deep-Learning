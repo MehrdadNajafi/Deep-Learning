{
  "cells": [
    {
      "cell_type": "code",
      "source": [
        "!pip install wandb"
      ],
      "metadata": {
        "id": "gWeMCNqjn_-j"
      },
      "execution_count": null,
      "outputs": []
    },
    {
      "cell_type": "code",
      "execution_count": 14,
      "metadata": {
        "id": "Elfo6_x8WleY"
      },
      "outputs": [],
      "source": [
        "import tensorflow as tf\n",
        "from tensorflow.keras import layers\n",
        "from sklearn.model_selection import train_test_split\n",
        "import wandb\n",
        "from wandb.keras import WandbCallback"
      ]
    },
    {
      "cell_type": "code",
      "source": [
        "wandb.init(project=\"Fashion_Mnist\")"
      ],
      "metadata": {
        "id": "5R3r8l6coW-W"
      },
      "execution_count": null,
      "outputs": []
    },
    {
      "cell_type": "code",
      "execution_count": 16,
      "metadata": {
        "id": "EnKYxftRWlea"
      },
      "outputs": [],
      "source": [
        "fashion_mnist = tf.keras.datasets.fashion_mnist\n",
        "(X_train, Y_train), (X_test, Y_test) = fashion_mnist.load_data()\n",
        "\n",
        "# Normalization\n",
        "X_train, X_test = X_train / 255.0, X_test / 255.0"
      ]
    },
    {
      "cell_type": "code",
      "execution_count": 17,
      "metadata": {
        "id": "VI6_CiLCWleb"
      },
      "outputs": [],
      "source": [
        "Y_train = Y_train.reshape(-1, 1)\n",
        "Y_test = Y_test.reshape(-1, 1)"
      ]
    },
    {
      "cell_type": "code",
      "execution_count": 32,
      "metadata": {
        "id": "B8HJdF0eWleb"
      },
      "outputs": [],
      "source": [
        "X_train, X_val, Y_train, Y_val = train_test_split(X_train, Y_train, test_size=0.2, shuffle=True)"
      ]
    },
    {
      "cell_type": "code",
      "execution_count": 31,
      "metadata": {
        "id": "usa0jIRFWlec"
      },
      "outputs": [],
      "source": [
        "model = tf.keras.models.Sequential([\n",
        "    \n",
        "    layers.Conv2D(32, (3, 3), activation=\"relu\", input_shape=(28, 28, 1)),\n",
        "    layers.MaxPooling2D(),\n",
        "    layers.Conv2D(64, (3, 3), activation=\"relu\"),\n",
        "    layers.MaxPooling2D(),\n",
        "    layers.Conv2D(64, (5, 5), activation=\"relu\"),\n",
        "    \n",
        "    layers.Flatten(),\n",
        "    \n",
        "    layers.Dense(128, activation=\"relu\"),\n",
        "    layers.Dense(256, activation=\"relu\"),\n",
        "    layers.Dense(512, activation=\"relu\"),\n",
        "    layers.Dense(10, activation=\"softmax\")\n",
        "])"
      ]
    },
    {
      "cell_type": "code",
      "source": [
        "config = wandb.config\n",
        "config.learning_rate = 0.001"
      ],
      "metadata": {
        "id": "IJiY-SG6orbA"
      },
      "execution_count": 33,
      "outputs": []
    },
    {
      "cell_type": "code",
      "execution_count": 34,
      "metadata": {
        "id": "wBdgxRDlWlec"
      },
      "outputs": [],
      "source": [
        "model.compile(optimizer=tf.keras.optimizers.Adam(learning_rate=config.learning_rate),\n",
        "              loss=tf.keras.losses.sparse_categorical_crossentropy,\n",
        "              metrics=[\"accuracy\"])"
      ]
    },
    {
      "cell_type": "code",
      "execution_count": 35,
      "metadata": {
        "colab": {
          "base_uri": "https://localhost:8080/"
        },
        "id": "MDaWmFjHWlec",
        "outputId": "341717dc-cc56-457c-d643-16b06141235b"
      },
      "outputs": [
        {
          "output_type": "stream",
          "name": "stdout",
          "text": [
            "Epoch 1/18\n",
            "1200/1200 [==============================] - 10s 8ms/step - loss: 0.5582 - accuracy: 0.7876 - val_loss: 0.4509 - val_accuracy: 0.8408 - _timestamp: 1646594572.0000 - _runtime: 32.0000\n",
            "Epoch 2/18\n",
            "1200/1200 [==============================] - 10s 8ms/step - loss: 0.3440 - accuracy: 0.8736 - val_loss: 0.3253 - val_accuracy: 0.8860 - _timestamp: 1646594581.0000 - _runtime: 41.0000\n",
            "Epoch 3/18\n",
            "1200/1200 [==============================] - 10s 8ms/step - loss: 0.2931 - accuracy: 0.8903 - val_loss: 0.3000 - val_accuracy: 0.8888 - _timestamp: 1646594591.0000 - _runtime: 51.0000\n",
            "Epoch 4/18\n",
            "1200/1200 [==============================] - 10s 8ms/step - loss: 0.2579 - accuracy: 0.9030 - val_loss: 0.2859 - val_accuracy: 0.9023 - _timestamp: 1646594600.0000 - _runtime: 60.0000\n",
            "Epoch 5/18\n",
            "1200/1200 [==============================] - 10s 8ms/step - loss: 0.2362 - accuracy: 0.9108 - val_loss: 0.2977 - val_accuracy: 0.8993 - _timestamp: 1646594611.0000 - _runtime: 71.0000\n",
            "Epoch 6/18\n",
            "1200/1200 [==============================] - 10s 8ms/step - loss: 0.2143 - accuracy: 0.9196 - val_loss: 0.2921 - val_accuracy: 0.9048 - _timestamp: 1646594621.0000 - _runtime: 81.0000\n",
            "Epoch 7/18\n",
            "1200/1200 [==============================] - 10s 8ms/step - loss: 0.1933 - accuracy: 0.9277 - val_loss: 0.2709 - val_accuracy: 0.9042 - _timestamp: 1646594630.0000 - _runtime: 90.0000\n",
            "Epoch 8/18\n",
            "1200/1200 [==============================] - 10s 8ms/step - loss: 0.1777 - accuracy: 0.9348 - val_loss: 0.2827 - val_accuracy: 0.9091 - _timestamp: 1646594640.0000 - _runtime: 100.0000\n",
            "Epoch 9/18\n",
            "1200/1200 [==============================] - 10s 8ms/step - loss: 0.1615 - accuracy: 0.9393 - val_loss: 0.2878 - val_accuracy: 0.9041 - _timestamp: 1646594650.0000 - _runtime: 110.0000\n",
            "Epoch 10/18\n",
            "1200/1200 [==============================] - 10s 8ms/step - loss: 0.1548 - accuracy: 0.9423 - val_loss: 0.2938 - val_accuracy: 0.9020 - _timestamp: 1646594660.0000 - _runtime: 120.0000\n",
            "Epoch 11/18\n",
            "1200/1200 [==============================] - 10s 8ms/step - loss: 0.1379 - accuracy: 0.9484 - val_loss: 0.3166 - val_accuracy: 0.9091 - _timestamp: 1646594670.0000 - _runtime: 130.0000\n",
            "Epoch 12/18\n",
            "1200/1200 [==============================] - 10s 8ms/step - loss: 0.1310 - accuracy: 0.9512 - val_loss: 0.2971 - val_accuracy: 0.9106 - _timestamp: 1646594680.0000 - _runtime: 140.0000\n",
            "Epoch 13/18\n",
            "1200/1200 [==============================] - 10s 8ms/step - loss: 0.1190 - accuracy: 0.9554 - val_loss: 0.3441 - val_accuracy: 0.9003 - _timestamp: 1646594690.0000 - _runtime: 150.0000\n",
            "Epoch 14/18\n",
            "1200/1200 [==============================] - 10s 8ms/step - loss: 0.1119 - accuracy: 0.9583 - val_loss: 0.3498 - val_accuracy: 0.9006 - _timestamp: 1646594699.0000 - _runtime: 159.0000\n",
            "Epoch 15/18\n",
            "1200/1200 [==============================] - 10s 8ms/step - loss: 0.1002 - accuracy: 0.9632 - val_loss: 0.3723 - val_accuracy: 0.9064 - _timestamp: 1646594709.0000 - _runtime: 169.0000\n",
            "Epoch 16/18\n",
            "1200/1200 [==============================] - 10s 8ms/step - loss: 0.1001 - accuracy: 0.9627 - val_loss: 0.3474 - val_accuracy: 0.9112 - _timestamp: 1646594719.0000 - _runtime: 179.0000\n",
            "Epoch 17/18\n",
            "1200/1200 [==============================] - 10s 8ms/step - loss: 0.0885 - accuracy: 0.9673 - val_loss: 0.4102 - val_accuracy: 0.9085 - _timestamp: 1646594729.0000 - _runtime: 189.0000\n",
            "Epoch 18/18\n",
            "1200/1200 [==============================] - 10s 8ms/step - loss: 0.0868 - accuracy: 0.9679 - val_loss: 0.3747 - val_accuracy: 0.9023 - _timestamp: 1646594738.0000 - _runtime: 198.0000\n"
          ]
        },
        {
          "output_type": "execute_result",
          "data": {
            "text/plain": [
              "<keras.callbacks.History at 0x7ff7fb671050>"
            ]
          },
          "metadata": {},
          "execution_count": 35
        }
      ],
      "source": [
        "model.fit(X_train, Y_train, epochs=18, validation_data=(X_val, Y_val), callbacks=[WandbCallback()])"
      ]
    },
    {
      "cell_type": "code",
      "execution_count": 36,
      "metadata": {
        "colab": {
          "base_uri": "https://localhost:8080/"
        },
        "id": "rrmmMgsjWled",
        "outputId": "af8b6e99-e0d8-4f1b-db89-a9d782df3c22"
      },
      "outputs": [
        {
          "output_type": "stream",
          "name": "stdout",
          "text": [
            "313/313 [==============================] - 2s 5ms/step - loss: 0.4108 - accuracy: 0.8923\n"
          ]
        },
        {
          "output_type": "execute_result",
          "data": {
            "text/plain": [
              "[0.4107819199562073, 0.892300009727478]"
            ]
          },
          "metadata": {},
          "execution_count": 36
        }
      ],
      "source": [
        "model.evaluate(X_test, Y_test)"
      ]
    }
  ],
  "metadata": {
    "interpreter": {
      "hash": "2e3d5a221850d49c091bfa422729480c31cc2214df6b2f2f1ac4431d31ee6b32"
    },
    "kernelspec": {
      "display_name": "Python 3.10.2 64-bit",
      "language": "python",
      "name": "python3"
    },
    "language_info": {
      "codemirror_mode": {
        "name": "ipython",
        "version": 3
      },
      "file_extension": ".py",
      "mimetype": "text/x-python",
      "name": "python",
      "nbconvert_exporter": "python",
      "pygments_lexer": "ipython3",
      "version": "3.10.2"
    },
    "orig_nbformat": 4,
    "colab": {
      "name": "CNN - Fashion_mnist.ipynb",
      "provenance": [],
      "collapsed_sections": []
    },
    "accelerator": "GPU"
  },
  "nbformat": 4,
  "nbformat_minor": 0
}