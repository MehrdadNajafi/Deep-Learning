{
 "cells": [
  {
   "cell_type": "code",
   "execution_count": 1,
   "metadata": {},
   "outputs": [],
   "source": [
    "import tensorflow as tf\n",
    "from sklearn.model_selection import train_test_split\n",
    "import wandb\n",
    "from wandb.keras import WandbCallback"
   ]
  },
  {
   "cell_type": "code",
   "execution_count": null,
   "metadata": {},
   "outputs": [],
   "source": [
    "wandb.init(project=\"Mnist\")"
   ]
  },
  {
   "cell_type": "code",
   "execution_count": 3,
   "metadata": {},
   "outputs": [],
   "source": [
    "mnist = tf.keras.datasets.mnist\n",
    "(X_train, Y_train),(X_test, Y_test) = mnist.load_data()\n",
    "\n",
    "X_train, X_val, Y_train, Y_val = train_test_split(X_train, Y_train, test_size=0.2, shuffle=True)\n",
    "\n",
    "# normalization\n",
    "X_train, X_test = X_train / 255.0, X_test / 255.0"
   ]
  },
  {
   "cell_type": "code",
   "execution_count": 4,
   "metadata": {},
   "outputs": [],
   "source": [
    "model = tf.keras.models.Sequential([\n",
    "  tf.keras.layers.Flatten(input_shape=(28, 28)),\n",
    "  tf.keras.layers.Dense(128, activation='relu'),\n",
    "  tf.keras.layers.Dropout(0.2),\n",
    "  tf.keras.layers.Dense(10, activation='softmax')\n",
    "])"
   ]
  },
  {
   "cell_type": "code",
   "execution_count": 5,
   "metadata": {},
   "outputs": [],
   "source": [
    "config = wandb.config\n",
    "config.learning_rate = 0.001"
   ]
  },
  {
   "cell_type": "code",
   "execution_count": 6,
   "metadata": {},
   "outputs": [],
   "source": [
    "\n",
    "model.compile(optimizer=tf.keras.optimizers.Adam(learning_rate=config.learning_rate),\n",
    "              loss=tf.keras.losses.sparse_categorical_crossentropy,\n",
    "              metrics=['accuracy'])"
   ]
  },
  {
   "cell_type": "code",
   "execution_count": 7,
   "metadata": {},
   "outputs": [
    {
     "name": "stdout",
     "output_type": "stream",
     "text": [
      "Epoch 1/8\n",
      "   1/1500 [..............................] - ETA: 5:48 - loss: 2.4250 - accuracy: 0.1562WARNING:tensorflow:Callback method `on_train_batch_end` is slow compared to the batch time (batch time: 0.0008s vs `on_train_batch_end` time: 0.0041s). Check your callbacks.\n",
      "1500/1500 [==============================] - 2s 1ms/step - loss: 0.3182 - accuracy: 0.9089 - val_loss: 24.1295 - val_accuracy: 0.9496\n",
      "Epoch 2/8\n",
      "1500/1500 [==============================] - 1s 970us/step - loss: 0.1568 - accuracy: 0.9541 - val_loss: 20.4826 - val_accuracy: 0.9601\n",
      "Epoch 3/8\n",
      "1500/1500 [==============================] - 1s 939us/step - loss: 0.1191 - accuracy: 0.9638 - val_loss: 16.5104 - val_accuracy: 0.9666\n",
      "Epoch 4/8\n",
      "1500/1500 [==============================] - 1s 915us/step - loss: 0.0936 - accuracy: 0.9718 - val_loss: 15.0831 - val_accuracy: 0.9728\n",
      "Epoch 5/8\n",
      "1500/1500 [==============================] - 1s 882us/step - loss: 0.0802 - accuracy: 0.9745 - val_loss: 17.5698 - val_accuracy: 0.9718\n",
      "Epoch 6/8\n",
      "1500/1500 [==============================] - 1s 988us/step - loss: 0.0699 - accuracy: 0.9775 - val_loss: 14.5071 - val_accuracy: 0.9740\n",
      "Epoch 7/8\n",
      "1500/1500 [==============================] - 1s 906us/step - loss: 0.0619 - accuracy: 0.9803 - val_loss: 14.8819 - val_accuracy: 0.9770\n",
      "Epoch 8/8\n",
      "1500/1500 [==============================] - 1s 961us/step - loss: 0.0548 - accuracy: 0.9826 - val_loss: 16.3613 - val_accuracy: 0.9747\n"
     ]
    },
    {
     "data": {
      "text/plain": [
       "<keras.callbacks.History at 0x2c521d19570>"
      ]
     },
     "execution_count": 7,
     "metadata": {},
     "output_type": "execute_result"
    }
   ],
   "source": [
    "model.fit(X_train, Y_train, epochs=8, validation_data=(X_val, Y_val), callbacks=[WandbCallback()])"
   ]
  },
  {
   "cell_type": "code",
   "execution_count": 8,
   "metadata": {},
   "outputs": [
    {
     "name": "stdout",
     "output_type": "stream",
     "text": [
      "313/313 [==============================] - 0s 784us/step - loss: 0.0795 - accuracy: 0.9768\n"
     ]
    },
    {
     "data": {
      "text/plain": [
       "[0.07949299365282059, 0.9768000245094299]"
      ]
     },
     "execution_count": 8,
     "metadata": {},
     "output_type": "execute_result"
    }
   ],
   "source": [
    "model.evaluate(X_test, Y_test)"
   ]
  }
 ],
 "metadata": {
  "interpreter": {
   "hash": "2e3d5a221850d49c091bfa422729480c31cc2214df6b2f2f1ac4431d31ee6b32"
  },
  "kernelspec": {
   "display_name": "Python 3.10.2 64-bit",
   "language": "python",
   "name": "python3"
  },
  "language_info": {
   "codemirror_mode": {
    "name": "ipython",
    "version": 3
   },
   "file_extension": ".py",
   "mimetype": "text/x-python",
   "name": "python",
   "nbconvert_exporter": "python",
   "pygments_lexer": "ipython3",
   "version": "3.10.2"
  },
  "orig_nbformat": 4
 },
 "nbformat": 4,
 "nbformat_minor": 2
}
