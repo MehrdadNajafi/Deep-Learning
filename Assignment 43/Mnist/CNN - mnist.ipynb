{
 "cells": [
  {
   "cell_type": "code",
   "execution_count": 1,
   "metadata": {},
   "outputs": [],
   "source": [
    "import numpy as np\n",
    "import tensorflow as tf\n",
    "from tensorflow.keras import layers\n",
    "import matplotlib.pyplot as plt\n",
    "from sklearn.model_selection import train_test_split\n",
    "import cv2\n",
    "import wandb\n",
    "from wandb.keras import WandbCallback"
   ]
  },
  {
   "cell_type": "code",
   "execution_count": null,
   "metadata": {},
   "outputs": [],
   "source": [
    "wandb.init(project=\"Mnist\")"
   ]
  },
  {
   "cell_type": "code",
   "execution_count": 3,
   "metadata": {},
   "outputs": [],
   "source": [
    "mnist = tf.keras.datasets.mnist\n",
    "(X_train, Y_train), (X_test, Y_test) = mnist.load_data()\n",
    "\n",
    "X_train, X_val, Y_train, Y_val = train_test_split(X_train, Y_train, test_size=0.2, shuffle=True)\n",
    "\n",
    "# normalization\n",
    "X_train = X_train / 255.0\n",
    "X_test = X_test / 255.0"
   ]
  },
  {
   "cell_type": "code",
   "execution_count": 4,
   "metadata": {},
   "outputs": [],
   "source": [
    "model = tf.keras.models.Sequential([\n",
    "    \n",
    "    # استخراج ویژگی\n",
    "    layers.Conv2D(32, (3, 3), activation=\"relu\", input_shape=(28, 28, 1)),\n",
    "    layers.MaxPooling2D(),\n",
    "    layers.Conv2D(64, (3, 3), activation=\"relu\"),\n",
    "    layers.MaxPooling2D(),\n",
    "    layers.Conv2D(64, (5, 5), activation=\"relu\"),\n",
    "    \n",
    "    layers.Flatten(),\n",
    "    \n",
    "    # همون شبکه ساده قدیمی\n",
    "    layers.Dense(128, activation=\"relu\"),\n",
    "    layers.Dense(10, activation=\"softmax\")\n",
    "])"
   ]
  },
  {
   "cell_type": "code",
   "execution_count": null,
   "metadata": {},
   "outputs": [],
   "source": [
    "model.summary()"
   ]
  },
  {
   "cell_type": "code",
   "execution_count": 5,
   "metadata": {},
   "outputs": [],
   "source": [
    "config = wandb.config\n",
    "config.learning_rate = 0.001"
   ]
  },
  {
   "cell_type": "code",
   "execution_count": 6,
   "metadata": {},
   "outputs": [],
   "source": [
    "model.compile(optimizer=tf.keras.optimizers.Adam(learning_rate=config.learning_rate),\n",
    "              loss=tf.keras.losses.sparse_categorical_crossentropy,\n",
    "              metrics=[\"accuracy\"])"
   ]
  },
  {
   "cell_type": "code",
   "execution_count": 7,
   "metadata": {},
   "outputs": [
    {
     "name": "stdout",
     "output_type": "stream",
     "text": [
      "Epoch 1/8\n",
      "1500/1500 [==============================] - 13s 8ms/step - loss: 0.1710 - accuracy: 0.9472 - val_loss: 14.9999 - val_accuracy: 0.9717\n",
      "Epoch 2/8\n",
      "1500/1500 [==============================] - 12s 8ms/step - loss: 0.0523 - accuracy: 0.9837 - val_loss: 9.7515 - val_accuracy: 0.9830\n",
      "Epoch 3/8\n",
      "1500/1500 [==============================] - 12s 8ms/step - loss: 0.0370 - accuracy: 0.9880 - val_loss: 8.6378 - val_accuracy: 0.9865\n",
      "Epoch 4/8\n",
      "1500/1500 [==============================] - 12s 8ms/step - loss: 0.0275 - accuracy: 0.9913 - val_loss: 9.7422 - val_accuracy: 0.9861\n",
      "Epoch 5/8\n",
      "1500/1500 [==============================] - 12s 8ms/step - loss: 0.0214 - accuracy: 0.9930 - val_loss: 8.4823 - val_accuracy: 0.9896\n",
      "Epoch 6/8\n",
      "1500/1500 [==============================] - 12s 8ms/step - loss: 0.0167 - accuracy: 0.9942 - val_loss: 15.9898 - val_accuracy: 0.9826\n",
      "Epoch 7/8\n",
      "1500/1500 [==============================] - 12s 8ms/step - loss: 0.0137 - accuracy: 0.9953 - val_loss: 16.8269 - val_accuracy: 0.9818\n",
      "Epoch 8/8\n",
      "1500/1500 [==============================] - 12s 8ms/step - loss: 0.0114 - accuracy: 0.9968 - val_loss: 17.1764 - val_accuracy: 0.9838\n"
     ]
    }
   ],
   "source": [
    "model_output = model.fit(X_train, Y_train, epochs=8, validation_data=(X_val, Y_val), callbacks=[WandbCallback()])"
   ]
  },
  {
   "cell_type": "code",
   "execution_count": 8,
   "metadata": {},
   "outputs": [],
   "source": [
    "model_loss, model_accuracy = model_output.history[\"loss\"], model_output.history[\"accuracy\"]"
   ]
  },
  {
   "cell_type": "code",
   "execution_count": 9,
   "metadata": {},
   "outputs": [
    {
     "data": {
      "image/png": "[encoded data removed]",
      "text/plain": [
       "<Figure size 864x432 with 2 Axes>"
      ]
     },
     "metadata": {
      "needs_background": "light"
     },
     "output_type": "display_data"
    }
   ],
   "source": [
    "fig, (ax1, ax2) = plt.subplots(1, 2, figsize=(12, 6))\n",
    "ax1.plot(model_loss)\n",
    "ax1.set_title(\"Loss\")\n",
    "ax2.plot(model_accuracy)\n",
    "ax2.set_title(\"Accuracy\")\n",
    "plt.show()"
   ]
  },
  {
   "cell_type": "code",
   "execution_count": 10,
   "metadata": {},
   "outputs": [
    {
     "name": "stdout",
     "output_type": "stream",
     "text": [
      "313/313 [==============================] - 1s 3ms/step - loss: 0.0285 - accuracy: 0.9923\n"
     ]
    },
    {
     "data": {
      "text/plain": [
       "[0.02847643755376339, 0.9922999739646912]"
      ]
     },
     "execution_count": 10,
     "metadata": {},
     "output_type": "execute_result"
    }
   ],
   "source": [
    "model.evaluate(X_test, Y_test)"
   ]
  },
  {
   "cell_type": "code",
   "execution_count": 11,
   "metadata": {},
   "outputs": [],
   "source": [
    "def predict(img_path):\n",
    "    img = cv2.imread(img_path)\n",
    "    img_gray = cv2.cvtColor(img, cv2.COLOR_BGR2GRAY)\n",
    "    img_gray = cv2.resize(img_gray, (28, 28))\n",
    "    img_gray = img_gray / 255.0\n",
    "    img_gray = img_gray.reshape(1, 28, 28)\n",
    "\n",
    "    result = model.predict([img_gray])\n",
    "    return np.argmax(result)"
   ]
  },
  {
   "cell_type": "code",
   "execution_count": 13,
   "metadata": {},
   "outputs": [
    {
     "data": {
      "text/plain": [
       "3"
      ]
     },
     "execution_count": 13,
     "metadata": {},
     "output_type": "execute_result"
    }
   ],
   "source": [
    "predict(\"3.png\")"
   ]
  },
  {
   "cell_type": "code",
   "execution_count": 14,
   "metadata": {},
   "outputs": [
    {
     "data": {
      "text/plain": [
       "5"
      ]
     },
     "execution_count": 14,
     "metadata": {},
     "output_type": "execute_result"
    }
   ],
   "source": [
    "predict(\"5.png\")"
   ]
  },
  {
   "cell_type": "code",
   "execution_count": 15,
   "metadata": {},
   "outputs": [
    {
     "data": {
      "text/plain": [
       "7"
      ]
     },
     "execution_count": 15,
     "metadata": {},
     "output_type": "execute_result"
    }
   ],
   "source": [
    "predict(\"7.png\")"
   ]
  }
 ],
 "metadata": {
  "interpreter": {
   "hash": "2e3d5a221850d49c091bfa422729480c31cc2214df6b2f2f1ac4431d31ee6b32"
  },
  "kernelspec": {
   "display_name": "Python 3.10.2 64-bit",
   "language": "python",
   "name": "python3"
  },
  "language_info": {
   "codemirror_mode": {
    "name": "ipython",
    "version": 3
   },
   "file_extension": ".py",
   "mimetype": "text/x-python",
   "name": "python",
   "nbconvert_exporter": "python",
   "pygments_lexer": "ipython3",
   "version": "3.10.2"
  },
  "orig_nbformat": 4
 },
 "nbformat": 4,
 "nbformat_minor": 2
}
