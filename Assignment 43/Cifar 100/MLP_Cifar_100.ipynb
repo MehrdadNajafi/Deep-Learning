{
  "nbformat": 4,
  "nbformat_minor": 0,
  "metadata": {
    "colab": {
      "name": "MLP - Cifar_100.ipynb",
      "provenance": [],
      "collapsed_sections": []
    },
    "kernelspec": {
      "name": "python3",
      "display_name": "Python 3"
    },
    "language_info": {
      "name": "python"
    },
    "accelerator": "GPU"
  },
  "cells": [
    {
      "cell_type": "code",
      "source": [
        "!pip install wandb"
      ],
      "metadata": {
        "id": "orZehLlX3X60"
      },
      "execution_count": null,
      "outputs": []
    },
    {
      "cell_type": "code",
      "execution_count": null,
      "metadata": {
        "id": "404FZJdIeLkP"
      },
      "outputs": [],
      "source": [
        "import tensorflow as tf\n",
        "from tensorflow.keras import layers\n",
        "from sklearn.model_selection import train_test_split\n",
        "import wandb\n",
        "from wandb.keras import WandbCallback"
      ]
    },
    {
      "cell_type": "code",
      "source": [
        "wandb.init(project=\"cifar_100\")"
      ],
      "metadata": {
        "id": "0pg9mh5C3pwk"
      },
      "execution_count": null,
      "outputs": []
    },
    {
      "cell_type": "code",
      "source": [
        "cifar_100 = tf.keras.datasets.cifar100\n",
        "(X_train, Y_train), (X_test, Y_test) = cifar_100.load_data()\n",
        "\n",
        "# Normalization\n",
        "X_train, X_test = X_train / 255.0, X_test / 255.0"
      ],
      "metadata": {
        "id": "WPhZpsp1elG6"
      },
      "execution_count": null,
      "outputs": []
    },
    {
      "cell_type": "code",
      "source": [
        "X_train, X_val, Y_train, Y_val = train_test_split(X_train, Y_train, test_size=0.2, shuffle=True)"
      ],
      "metadata": {
        "id": "m5291TUzeof6"
      },
      "execution_count": null,
      "outputs": []
    },
    {
      "cell_type": "code",
      "source": [
        "model = tf.keras.models.Sequential([\n",
        "                                    layers.Flatten(input_shape=(32, 32, 3)),\n",
        "\n",
        "                                    layers.Dense(128, activation=\"relu\"),\n",
        "                                    layers.Dense(512, activation=\"relu\"),\n",
        "                                    layers.Dense(1024, activation=\"relu\"),\n",
        "                                    layers.Dense(100, activation=\"softmax\")\n",
        "                                    ])"
      ],
      "metadata": {
        "id": "KWMwik8ReqwK"
      },
      "execution_count": null,
      "outputs": []
    },
    {
      "cell_type": "code",
      "source": [
        "model.summary()"
      ],
      "metadata": {
        "id": "49u-0-hWexxo"
      },
      "execution_count": null,
      "outputs": []
    },
    {
      "cell_type": "code",
      "source": [
        "config = wandb.config\n",
        "config.learning_rate = 0.0001"
      ],
      "metadata": {
        "id": "Mjh4c7aZ33me"
      },
      "execution_count": null,
      "outputs": []
    },
    {
      "cell_type": "code",
      "source": [
        "model.compile(optimizer=tf.keras.optimizers.Adam(learning_rate=config.learning_rate),\n",
        "              loss=tf.keras.losses.sparse_categorical_crossentropy,\n",
        "              metrics=[\"accuracy\"])"
      ],
      "metadata": {
        "id": "Iwj8EJTge0ZP"
      },
      "execution_count": null,
      "outputs": []
    },
    {
      "cell_type": "code",
      "source": [
        "model.fit(X_train, Y_train, validation_data=(X_val, Y_val), epochs=5, callbacks=[WandbCallback()])"
      ],
      "metadata": {
        "id": "KLDhFvvze15j",
        "colab": {
          "base_uri": "https://localhost:8080/"
        },
        "outputId": "97ed21c2-dfb9-47c9-8288-dff250fb4447"
      },
      "execution_count": null,
      "outputs": [
        {
          "output_type": "stream",
          "name": "stdout",
          "text": [
            "Epoch 1/5\n",
            "1250/1250 [==============================] - 4s 3ms/step - loss: 2.3630 - accuracy: 0.3934 - val_loss: 3.1444 - val_accuracy: 0.2589 - _timestamp: 1646597926.0000 - _runtime: 211.0000\n",
            "Epoch 2/5\n",
            "1250/1250 [==============================] - 4s 3ms/step - loss: 2.3148 - accuracy: 0.4053 - val_loss: 3.1834 - val_accuracy: 0.2558 - _timestamp: 1646597930.0000 - _runtime: 215.0000\n",
            "Epoch 3/5\n",
            "1250/1250 [==============================] - 4s 3ms/step - loss: 2.2587 - accuracy: 0.4158 - val_loss: 3.1892 - val_accuracy: 0.2602 - _timestamp: 1646597934.0000 - _runtime: 219.0000\n",
            "Epoch 4/5\n",
            "1250/1250 [==============================] - 4s 3ms/step - loss: 2.2063 - accuracy: 0.4277 - val_loss: 3.1917 - val_accuracy: 0.2594 - _timestamp: 1646597938.0000 - _runtime: 223.0000\n",
            "Epoch 5/5\n",
            "1250/1250 [==============================] - 4s 3ms/step - loss: 2.1539 - accuracy: 0.4424 - val_loss: 3.2294 - val_accuracy: 0.2542 - _timestamp: 1646597942.0000 - _runtime: 227.0000\n"
          ]
        },
        {
          "output_type": "execute_result",
          "data": {
            "text/plain": [
              "<keras.callbacks.History at 0x7f13ba485e50>"
            ]
          },
          "metadata": {},
          "execution_count": 11
        }
      ]
    },
    {
      "cell_type": "code",
      "source": [
        "model.evaluate(X_test, Y_test)"
      ],
      "metadata": {
        "colab": {
          "base_uri": "https://localhost:8080/"
        },
        "id": "I-2AWZ9zfnjG",
        "outputId": "f8952aaa-fafa-44d2-9b53-5d168ea1a5c5"
      },
      "execution_count": null,
      "outputs": [
        {
          "output_type": "stream",
          "name": "stdout",
          "text": [
            "313/313 [==============================] - 1s 3ms/step - loss: 3.2390 - accuracy: 0.2590\n"
          ]
        },
        {
          "output_type": "execute_result",
          "data": {
            "text/plain": [
              "[3.2390334606170654, 0.2590000033378601]"
            ]
          },
          "metadata": {},
          "execution_count": 12
        }
      ]
    }
  ]
}