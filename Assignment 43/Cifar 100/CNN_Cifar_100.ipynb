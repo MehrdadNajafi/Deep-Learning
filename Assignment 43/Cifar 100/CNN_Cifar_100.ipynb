{
  "nbformat": 4,
  "nbformat_minor": 0,
  "metadata": {
    "colab": {
      "name": "CNN - Cifar_100.ipynb",
      "provenance": [],
      "collapsed_sections": []
    },
    "kernelspec": {
      "name": "python3",
      "display_name": "Python 3"
    },
    "language_info": {
      "name": "python"
    },
    "accelerator": "GPU"
  },
  "cells": [
    {
      "cell_type": "code",
      "source": [
        "!pip install wandb"
      ],
      "metadata": {
        "id": "FQgqCt9H0Wwj"
      },
      "execution_count": null,
      "outputs": []
    },
    {
      "cell_type": "code",
      "execution_count": null,
      "metadata": {
        "id": "4zafnEVzYJLJ"
      },
      "outputs": [],
      "source": [
        "import tensorflow as tf\n",
        "from tensorflow.keras import layers\n",
        "from sklearn.model_selection import train_test_split\n",
        "import wandb\n",
        "from wandb.keras import WandbCallback"
      ]
    },
    {
      "cell_type": "code",
      "source": [
        "wandb.init(project=\"cifar_100\")"
      ],
      "metadata": {
        "id": "0NlKfHWr0mhT"
      },
      "execution_count": null,
      "outputs": []
    },
    {
      "cell_type": "code",
      "source": [
        "cifar_100 = tf.keras.datasets.cifar100\n",
        "(X_train, Y_train), (X_test, Y_test) = cifar_100.load_data()\n",
        "\n",
        "# Normalization\n",
        "X_train, X_test = X_train / 255.0, X_test / 255.0"
      ],
      "metadata": {
        "id": "lRP1n-ASYbcm"
      },
      "execution_count": null,
      "outputs": []
    },
    {
      "cell_type": "code",
      "source": [
        "X_train, X_val, Y_train, Y_val = train_test_split(X_train, Y_train, test_size=0.2, shuffle=True)"
      ],
      "metadata": {
        "id": "4mGsHIxSY3cT"
      },
      "execution_count": null,
      "outputs": []
    },
    {
      "cell_type": "markdown",
      "source": [
        "## model"
      ],
      "metadata": {
        "id": "ja6szVJfcsZV"
      }
    },
    {
      "cell_type": "code",
      "source": [
        "model = tf.keras.models.Sequential([\n",
        "                                    layers.Conv2D(32, (3, 3), activation=\"relu\", input_shape=(32, 32, 3)),\n",
        "                                    layers.MaxPooling2D(),\n",
        "                                    layers.Conv2D(64, (3, 3), activation=\"relu\"),\n",
        "                                    layers.MaxPooling2D(),\n",
        "                                    layers.Conv2D(128, (5, 5), activation=\"relu\"),\n",
        "\n",
        "                                    layers.Flatten(),\n",
        "\n",
        "                                    layers.Dense(128, activation=\"relu\"),\n",
        "                                    layers.Dense(512, activation=\"relu\"),\n",
        "                                    layers.Dense(1024, activation=\"relu\"),\n",
        "                                    layers.Dense(100, activation=\"softmax\")\n",
        "                                    ])"
      ],
      "metadata": {
        "id": "MlwFJ4eRZCMa"
      },
      "execution_count": null,
      "outputs": []
    },
    {
      "cell_type": "code",
      "source": [
        "model.summary()"
      ],
      "metadata": {
        "id": "LaiDTO6sa8oP"
      },
      "execution_count": null,
      "outputs": []
    },
    {
      "cell_type": "code",
      "source": [
        "config = wandb.config\n",
        "config.learning_rate = 0.0001"
      ],
      "metadata": {
        "id": "JXR4JTug00YL"
      },
      "execution_count": null,
      "outputs": []
    },
    {
      "cell_type": "code",
      "source": [
        "model.compile(optimizer=tf.keras.optimizers.Adam(learning_rate=config.learning_rate),\n",
        "              loss=tf.keras.losses.sparse_categorical_crossentropy,\n",
        "              metrics=[\"accuracy\"])"
      ],
      "metadata": {
        "id": "HNsG-tMtaufs"
      },
      "execution_count": null,
      "outputs": []
    },
    {
      "cell_type": "code",
      "source": [
        "model.fit(X_train, Y_train, validation_data=(X_val, Y_val), epochs=5, callbacks=[WandbCallback()])"
      ],
      "metadata": {
        "colab": {
          "base_uri": "https://localhost:8080/"
        },
        "id": "nxPKoLepa6jS",
        "outputId": "9d52dd76-fab6-4780-9fc4-8c3c08054c81"
      },
      "execution_count": null,
      "outputs": [
        {
          "output_type": "stream",
          "name": "stdout",
          "text": [
            "Epoch 1/5\n",
            "   6/1250 [..............................] - ETA: 13s - loss: 1.9509 - accuracy: 0.4896WARNING:tensorflow:Callback method `on_train_batch_end` is slow compared to the batch time (batch time: 0.0045s vs `on_train_batch_end` time: 0.0057s). Check your callbacks.\n",
            "1250/1250 [==============================] - 15s 12ms/step - loss: 2.0149 - accuracy: 0.4617 - val_loss: 2.6086 - val_accuracy: 0.3503 - _timestamp: 1646597487.0000 - _runtime: 573.0000\n",
            "Epoch 2/5\n",
            "1250/1250 [==============================] - 15s 12ms/step - loss: 1.9620 - accuracy: 0.4739 - val_loss: 2.6263 - val_accuracy: 0.3491 - _timestamp: 1646597501.0000 - _runtime: 587.0000\n",
            "Epoch 3/5\n",
            "1250/1250 [==============================] - 14s 12ms/step - loss: 1.9011 - accuracy: 0.4891 - val_loss: 2.6414 - val_accuracy: 0.3493 - _timestamp: 1646597516.0000 - _runtime: 602.0000\n",
            "Epoch 4/5\n",
            "1250/1250 [==============================] - 15s 12ms/step - loss: 1.8492 - accuracy: 0.4992 - val_loss: 2.6302 - val_accuracy: 0.3556 - _timestamp: 1646597530.0000 - _runtime: 616.0000\n",
            "Epoch 5/5\n",
            "1250/1250 [==============================] - 14s 12ms/step - loss: 1.7974 - accuracy: 0.5105 - val_loss: 2.6318 - val_accuracy: 0.3568 - _timestamp: 1646597545.0000 - _runtime: 631.0000\n"
          ]
        },
        {
          "output_type": "execute_result",
          "data": {
            "text/plain": [
              "<keras.callbacks.History at 0x7f93c3b1b190>"
            ]
          },
          "metadata": {},
          "execution_count": 11
        }
      ]
    },
    {
      "cell_type": "code",
      "source": [
        "model.evaluate(X_test, Y_test)"
      ],
      "metadata": {
        "colab": {
          "base_uri": "https://localhost:8080/"
        },
        "id": "OCpSmg3Dd1kK",
        "outputId": "8cf80614-faad-403b-c28f-56e6293427bd"
      },
      "execution_count": null,
      "outputs": [
        {
          "output_type": "stream",
          "name": "stdout",
          "text": [
            "313/313 [==============================] - 2s 5ms/step - loss: 2.6170 - accuracy: 0.3600\n"
          ]
        },
        {
          "output_type": "execute_result",
          "data": {
            "text/plain": [
              "[2.6170291900634766, 0.36000001430511475]"
            ]
          },
          "metadata": {},
          "execution_count": 12
        }
      ]
    }
  ]
}