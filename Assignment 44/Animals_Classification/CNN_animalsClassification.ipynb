{
  "cells": [
    {
      "cell_type": "code",
      "execution_count": 76,
      "metadata": {
        "id": "SESNE1YZK7xz"
      },
      "outputs": [],
      "source": [
        "import tensorflow as tf\n",
        "from tensorflow.keras.preprocessing.image import ImageDataGenerator\n",
        "from tensorflow.keras.layers import Conv2D, MaxPool2D, Flatten, Dense\n",
        "\n",
        "import numpy as np\n",
        "import cv2\n",
        "from PIL import ImageFile\n",
        "import wandb\n",
        "from wandb.keras import WandbCallback\n",
        "from sklearn.metrics import confusion_matrix\n",
        "import matplotlib.pyplot as plt\n",
        "import seaborn as sns"
      ]
    },
    {
      "cell_type": "code",
      "execution_count": null,
      "metadata": {
        "id": "hFhz_LITS80H"
      },
      "outputs": [],
      "source": [
        "wandb.init(project=\"Animals_Classification\")"
      ]
    },
    {
      "cell_type": "code",
      "execution_count": 2,
      "metadata": {
        "id": "wj-dzx6DaiKe"
      },
      "outputs": [],
      "source": [
        "ImageFile.LOAD_TRUNCATED_IMAGES = True"
      ]
    },
    {
      "cell_type": "markdown",
      "metadata": {
        "id": "ntbrz39IQPLi"
      },
      "source": [
        "### Dataset"
      ]
    },
    {
      "cell_type": "code",
      "execution_count": 5,
      "metadata": {
        "colab": {
          "base_uri": "https://localhost:8080/"
        },
        "id": "fo54EQUZP_lY",
        "outputId": "99650103-8410-4f76-f297-5e72cd454378"
      },
      "outputs": [
        {
          "name": "stdout",
          "output_type": "stream",
          "text": [
            "Found 763 images belonging to 4 classes.\n",
            "Found 188 images belonging to 4 classes.\n"
          ]
        }
      ],
      "source": [
        "dataset_path = \"animals\"\n",
        "width = height = 224\n",
        "\n",
        "idg = ImageDataGenerator(\n",
        "    rescale = 1./255,\n",
        "\n",
        "    # Augmentation\n",
        "    horizontal_flip = True,\n",
        "    zoom_range = 0.1,\n",
        "    rotation_range = 10,\n",
        "    brightness_range = (0.9, 1.1),\n",
        "    validation_split = 0.2\n",
        ")\n",
        "\n",
        "train_data = idg.flow_from_directory(\n",
        "    dataset_path,\n",
        "    target_size = (width, height),\n",
        "    class_mode = \"categorical\",\n",
        "    subset = \"training\"\n",
        ")\n",
        "\n",
        "val_data = idg.flow_from_directory(\n",
        "    dataset_path,\n",
        "    target_size = (width, height),\n",
        "    class_mode = \"categorical\",\n",
        "    subset = \"validation\"\n",
        ")"
      ]
    },
    {
      "cell_type": "markdown",
      "metadata": {
        "id": "EDk80ndAVOPN"
      },
      "source": [
        "### Model"
      ]
    },
    {
      "cell_type": "code",
      "execution_count": 6,
      "metadata": {
        "id": "qY_9jzgBVLAP"
      },
      "outputs": [],
      "source": [
        "model = tf.keras.models.Sequential([\n",
        "      Conv2D(32, (3, 3), activation=\"relu\", input_shape=(width, height, 3)),\n",
        "      Conv2D(32, (3, 3), activation=\"relu\"),\n",
        "      MaxPool2D(),\n",
        "      Conv2D(32, (3, 3), activation=\"relu\"),\n",
        "      Conv2D(32, (3, 3), activation=\"relu\"),\n",
        "      MaxPool2D(),\n",
        "      Conv2D(64, (3, 3), activation=\"relu\"),\n",
        "      Conv2D(64, (3, 3), activation=\"relu\"),\n",
        "      MaxPool2D(),\n",
        "\n",
        "      Flatten(),\n",
        "      Dense(256, activation=\"relu\"),\n",
        "      Dense(512, activation=\"relu\"),\n",
        "      Dense(1024, activation=\"relu\"),\n",
        "      Dense(4, activation=\"softmax\")\n",
        "])"
      ]
    },
    {
      "cell_type": "code",
      "execution_count": 7,
      "metadata": {
        "id": "fG7GHIFzWPGn"
      },
      "outputs": [],
      "source": [
        "config = wandb.config\n",
        "config.learning_rate = 0.0001"
      ]
    },
    {
      "cell_type": "code",
      "execution_count": 8,
      "metadata": {
        "id": "PZmEQWp8WJXt"
      },
      "outputs": [],
      "source": [
        "model.compile(optimizer=tf.keras.optimizers.Adam(learning_rate=config.learning_rate),\n",
        "              loss=tf.keras.losses.categorical_crossentropy,\n",
        "              metrics=[\"accuracy\"])"
      ]
    },
    {
      "cell_type": "code",
      "execution_count": 11,
      "metadata": {
        "colab": {
          "base_uri": "https://localhost:8080/"
        },
        "id": "htHziVtpWlEw",
        "outputId": "600e8768-6393-4042-cbdf-bfb5a5b8bd95"
      },
      "outputs": [
        {
          "name": "stdout",
          "output_type": "stream",
          "text": [
            "Epoch 1/2\n",
            "24/24 [==============================] - 37s 2s/step - loss: 0.6395 - accuracy: 0.7523 - val_loss: 0.9031 - val_accuracy: 0.6649\n",
            "Epoch 2/2\n",
            "24/24 [==============================] - 36s 1s/step - loss: 0.5458 - accuracy: 0.7955 - val_loss: 0.9695 - val_accuracy: 0.6436\n"
          ]
        },
        {
          "data": {
            "text/plain": [
              "<keras.callbacks.History at 0x21c46b208b0>"
            ]
          },
          "execution_count": 11,
          "metadata": {},
          "output_type": "execute_result"
        }
      ],
      "source": [
        "model.fit(train_data, validation_data=val_data, epochs=2, callbacks=[WandbCallback()])"
      ]
    },
    {
      "cell_type": "markdown",
      "metadata": {},
      "source": [
        "### save model"
      ]
    },
    {
      "cell_type": "code",
      "execution_count": null,
      "metadata": {},
      "outputs": [],
      "source": [
        "model.save(\"model/animalsClassification.h5\")"
      ]
    },
    {
      "cell_type": "markdown",
      "metadata": {},
      "source": [
        "### load model"
      ]
    },
    {
      "cell_type": "code",
      "execution_count": 62,
      "metadata": {},
      "outputs": [],
      "source": [
        "model = tf.keras.models.load_model(\"model/animalsClassification.h5\")"
      ]
    },
    {
      "cell_type": "markdown",
      "metadata": {},
      "source": [
        "### test"
      ]
    },
    {
      "cell_type": "code",
      "execution_count": 63,
      "metadata": {},
      "outputs": [
        {
          "name": "stdout",
          "output_type": "stream",
          "text": [
            "Found 120 images belonging to 4 classes.\n"
          ]
        }
      ],
      "source": [
        "width = height = 224\n",
        "test_path = \"test\"\n",
        "\n",
        "idg = ImageDataGenerator(\n",
        "    rescale = 1./255\n",
        ")\n",
        "\n",
        "test_data = idg.flow_from_directory(\n",
        "    test_path,\n",
        "    target_size = (width, height),\n",
        "    class_mode = \"categorical\"\n",
        ")"
      ]
    },
    {
      "cell_type": "code",
      "execution_count": 64,
      "metadata": {},
      "outputs": [
        {
          "name": "stdout",
          "output_type": "stream",
          "text": [
            "4/4 [==============================] - 2s 311ms/step - loss: 0.6731 - accuracy: 0.7583\n"
          ]
        },
        {
          "data": {
            "text/plain": [
              "[0.6731169819831848, 0.7583333253860474]"
            ]
          },
          "execution_count": 64,
          "metadata": {},
          "output_type": "execute_result"
        }
      ],
      "source": [
        "model.evaluate(test_data)"
      ]
    },
    {
      "cell_type": "code",
      "execution_count": 65,
      "metadata": {},
      "outputs": [],
      "source": [
        "X_test, Y_test = test_data.next()"
      ]
    },
    {
      "cell_type": "code",
      "execution_count": 66,
      "metadata": {},
      "outputs": [
        {
          "data": {
            "text/plain": [
              "array([3, 3, 1, 1, 0, 1, 1, 3, 1, 2, 2, 2, 3, 3, 1, 2, 3, 2, 0, 3, 2, 0,\n",
              "       1, 3, 2, 0, 0, 2, 0, 3, 2, 0], dtype=int64)"
            ]
          },
          "execution_count": 66,
          "metadata": {},
          "output_type": "execute_result"
        }
      ],
      "source": [
        "Y_test = np.argmax(Y_test, axis=1)\n",
        "Y_test"
      ]
    },
    {
      "cell_type": "code",
      "execution_count": 67,
      "metadata": {},
      "outputs": [
        {
          "data": {
            "text/plain": [
              "array([3, 3, 1, 1, 2, 1, 1, 3, 1, 2, 0, 2, 3, 0, 1, 2, 3, 2, 0, 3, 2, 0,\n",
              "       1, 3, 2, 0, 0, 1, 2, 1, 2, 0], dtype=int64)"
            ]
          },
          "execution_count": 67,
          "metadata": {},
          "output_type": "execute_result"
        }
      ],
      "source": [
        "Y_pred = np.argmax(model.predict(X_test), axis=1)\n",
        "Y_pred"
      ]
    },
    {
      "cell_type": "markdown",
      "metadata": {},
      "source": [
        "### Confusion Matrix"
      ]
    },
    {
      "cell_type": "code",
      "execution_count": 68,
      "metadata": {},
      "outputs": [
        {
          "data": {
            "image/png": "[encoded data removed]",
            "text/plain": [
              "<Figure size 864x432 with 2 Axes>"
            ]
          },
          "metadata": {},
          "output_type": "display_data"
        }
      ],
      "source": [
        "con_matrix = confusion_matrix(Y_test, Y_pred)\n",
        "\n",
        "fig = plt.figure(figsize=(12, 6))\n",
        "ax = fig.add_subplot(111)\n",
        "sns.heatmap(con_matrix, annot=True, fmt='g', ax=ax)\n",
        "ax.set_title('Confusion Matrix')\n",
        "ax.set_xlabel('Predicted labels')\n",
        "ax.set_ylabel('True labels')\n",
        "plt.show()"
      ]
    },
    {
      "cell_type": "markdown",
      "metadata": {},
      "source": [
        "### inference"
      ]
    },
    {
      "cell_type": "code",
      "execution_count": 81,
      "metadata": {},
      "outputs": [],
      "source": [
        "def inference(img_path):\n",
        "    img = cv2.imread(img_path)\n",
        "    img = cv2.cvtColor(img, cv2.COLOR_BGR2RGB)\n",
        "    img = cv2.resize(img, (width, height))\n",
        "    img = img / 255\n",
        "    img = img.reshape(1, width, height, 3) # 3d ---> 4d\n",
        "    return img"
      ]
    },
    {
      "cell_type": "code",
      "execution_count": 83,
      "metadata": {},
      "outputs": [
        {
          "data": {
            "text/plain": [
              "0"
            ]
          },
          "execution_count": 83,
          "metadata": {},
          "output_type": "execute_result"
        }
      ],
      "source": [
        "elephant_img = inference(\"test/elephant/4cf93fb44aa3844d4d34fc66d0278075.jpg\") # 0\n",
        "result = np.argmax(model.predict(elephant_img))\n",
        "result"
      ]
    },
    {
      "cell_type": "code",
      "execution_count": 87,
      "metadata": {},
      "outputs": [
        {
          "data": {
            "text/plain": [
              "1"
            ]
          },
          "execution_count": 87,
          "metadata": {},
          "output_type": "execute_result"
        }
      ],
      "source": [
        "koala_img = inference(\"test/koala/3fbf44ac60f36d592babd8c1633b3b51.jpg\") # 1\n",
        "result = np.argmax(model.predict(koala_img))\n",
        "result"
      ]
    },
    {
      "cell_type": "code",
      "execution_count": 88,
      "metadata": {},
      "outputs": [
        {
          "data": {
            "text/plain": [
              "2"
            ]
          },
          "execution_count": 88,
          "metadata": {},
          "output_type": "execute_result"
        }
      ],
      "source": [
        "lion_img = inference(\"test/lion/5a2e6c09f3e692bf0729e44ef13ed1e1.jpg\") # 2\n",
        "result = np.argmax(model.predict(lion_img))\n",
        "result"
      ]
    },
    {
      "cell_type": "code",
      "execution_count": 89,
      "metadata": {},
      "outputs": [
        {
          "data": {
            "text/plain": [
              "3"
            ]
          },
          "execution_count": 89,
          "metadata": {},
          "output_type": "execute_result"
        }
      ],
      "source": [
        "wolf_img = inference(\"test/wolf/3d76df2a3b615a2b328aeffda30d01d9.jpg\") # 3\n",
        "result = np.argmax(model.predict(wolf_img))\n",
        "result"
      ]
    }
  ],
  "metadata": {
    "accelerator": "GPU",
    "colab": {
      "collapsed_sections": [],
      "name": "CNN-animalsClassification.ipynb",
      "provenance": []
    },
    "kernelspec": {
      "display_name": "Python 3",
      "name": "python3"
    },
    "language_info": {
      "codemirror_mode": {
        "name": "ipython",
        "version": 3
      },
      "file_extension": ".py",
      "mimetype": "text/x-python",
      "name": "python",
      "nbconvert_exporter": "python",
      "pygments_lexer": "ipython3",
      "version": "3.10.2"
    }
  },
  "nbformat": 4,
  "nbformat_minor": 0
}
